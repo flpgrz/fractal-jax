{
 "cells": [
  {
   "cell_type": "code",
   "execution_count": null,
   "id": "f53250b8",
   "metadata": {},
   "outputs": [],
   "source": [
    "from fractal_jax import FractalJax\n",
    "import matplotlib.pyplot as plt"
   ]
  },
  {
   "cell_type": "code",
   "execution_count": null,
   "id": "5fe2d5ce",
   "metadata": {},
   "outputs": [],
   "source": [
    "%%time\n",
    "m = FractalJax(iterations=10000, divergence_threshold=2, backend=\"gpu\")"
   ]
  },
  {
   "cell_type": "markdown",
   "id": "40e073c3",
   "metadata": {},
   "source": [
    "# Mandelbrot set"
   ]
  },
  {
   "cell_type": "code",
   "execution_count": null,
   "id": "f211e619",
   "metadata": {},
   "outputs": [],
   "source": [
    "%%time\n",
    "_ = m.generate_mandelbrot(x_range=[-2, 1], y_range=[-1.5, 1.5], pixel_res=300)\n",
    "# the first time you execute a jit function, it takes longer"
   ]
  },
  {
   "cell_type": "code",
   "execution_count": null,
   "id": "2f312af3",
   "metadata": {},
   "outputs": [],
   "source": [
    "%%time\n",
    "_ = m.generate_mandelbrot(x_range=[-2, 1], y_range=[-1.5, 1.5], pixel_res=300)\n",
    "# now it should be faster, because it's compiled with jit"
   ]
  },
  {
   "cell_type": "code",
   "execution_count": null,
   "id": "8c8573b7",
   "metadata": {},
   "outputs": [],
   "source": [
    "%%time\n",
    "_ = m.generate_mandelbrot(x_range=[-1, -0.9], y_range=[-.3, -.2], pixel_res=30000)"
   ]
  },
  {
   "cell_type": "markdown",
   "id": "1d6c7da5",
   "metadata": {},
   "source": [
    "# Juia sets"
   ]
  },
  {
   "cell_type": "code",
   "execution_count": null,
   "id": "fde03dd0",
   "metadata": {},
   "outputs": [],
   "source": [
    "%%time\n",
    "julia_set = m.generate_julia(c=complex(-0.5792518264067199, 0.5448363340450433), x_range=[-1.5, 1.5], y_range=[-1.5, 1.5], pixel_res=300)"
   ]
  },
  {
   "cell_type": "code",
   "execution_count": null,
   "id": "3dcca1f4",
   "metadata": {},
   "outputs": [],
   "source": [
    "import matplotlib.pyplot as plt\n",
    "fig, ax = plt.subplots(1, 1, figsize=(5, 5))\n",
    "ax.imshow(\n",
    "    julia_set\n",
    ")"
   ]
  },
  {
   "cell_type": "code",
   "execution_count": null,
   "id": "3ce0bd99-a700-4bb8-953e-3e34da3cabfb",
   "metadata": {},
   "outputs": [],
   "source": []
  }
 ],
 "metadata": {
  "kernelspec": {
   "display_name": "Python 3 (ipykernel)",
   "language": "python",
   "name": "python3"
  },
  "language_info": {
   "codemirror_mode": {
    "name": "ipython",
    "version": 3
   },
   "file_extension": ".py",
   "mimetype": "text/x-python",
   "name": "python",
   "nbconvert_exporter": "python",
   "pygments_lexer": "ipython3",
   "version": "3.13.1"
  }
 },
 "nbformat": 4,
 "nbformat_minor": 5
}
