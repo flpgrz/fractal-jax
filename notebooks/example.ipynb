{
 "cells": [
  {
   "cell_type": "code",
   "execution_count": 1,
   "id": "f53250b8",
   "metadata": {},
   "outputs": [],
   "source": [
    "from fractal_jax import FractalJax\n",
    "import matplotlib.pyplot as plt"
   ]
  },
  {
   "cell_type": "code",
   "execution_count": 2,
   "id": "5fe2d5ce",
   "metadata": {},
   "outputs": [
    {
     "name": "stdout",
     "output_type": "stream",
     "text": [
      "CPU times: user 267 µs, sys: 0 ns, total: 267 µs\n",
      "Wall time: 280 µs\n"
     ]
    }
   ],
   "source": [
    "%%time\n",
    "m = FractalJax(iterations=50, divergence_threshold=2, backend=\"gpu\")"
   ]
  },
  {
   "cell_type": "markdown",
   "id": "40e073c3",
   "metadata": {},
   "source": [
    "# Mandelbrot set"
   ]
  },
  {
   "cell_type": "code",
   "execution_count": 11,
   "id": "f211e619",
   "metadata": {},
   "outputs": [
    {
     "name": "stdout",
     "output_type": "stream",
     "text": [
      "CPU times: user 2.48 ms, sys: 1.97 ms, total: 4.44 ms\n",
      "Wall time: 3.01 ms\n"
     ]
    }
   ],
   "source": [
    "%%time\n",
    "_ = m.generate_mandelbrot(x_range=[-2, 1], y_range=[-1.5, 1.5], pixel_res=300)\n",
    "# the first time you execute a jit function, it takes longer"
   ]
  },
  {
   "cell_type": "code",
   "execution_count": 12,
   "id": "2f312af3",
   "metadata": {},
   "outputs": [
    {
     "name": "stdout",
     "output_type": "stream",
     "text": [
      "CPU times: user 3.97 ms, sys: 365 µs, total: 4.34 ms\n",
      "Wall time: 3 ms\n"
     ]
    }
   ],
   "source": [
    "%%time\n",
    "_ = m.generate_mandelbrot(x_range=[-2, 1], y_range=[-1.5, 1.5], pixel_res=300)\n",
    "# now it's faster, because it's compiled with jit"
   ]
  },
  {
   "cell_type": "code",
   "execution_count": 13,
   "id": "8c8573b7",
   "metadata": {},
   "outputs": [
    {
     "name": "stdout",
     "output_type": "stream",
     "text": [
      "CPU times: user 695 ms, sys: 44.6 ms, total: 740 ms\n",
      "Wall time: 985 ms\n"
     ]
    }
   ],
   "source": [
    "%%time\n",
    "_ = m.generate_mandelbrot(x_range=[-1, -0.9], y_range=[-.3, -.2], pixel_res=30000)"
   ]
  },
  {
   "cell_type": "markdown",
   "id": "1d6c7da5",
   "metadata": {},
   "source": [
    "# Juia sets"
   ]
  },
  {
   "cell_type": "code",
   "execution_count": 16,
   "id": "fde03dd0",
   "metadata": {},
   "outputs": [
    {
     "name": "stdout",
     "output_type": "stream",
     "text": [
      "CPU times: user 3.54 ms, sys: 16.9 ms, total: 20.4 ms\n",
      "Wall time: 18.4 ms\n"
     ]
    }
   ],
   "source": [
    "%%time\n",
    "_ = m.generate_julia(c=complex(-0.5792518264067199, 0.5448363340450433), x_range=[-1.5, 1.5], y_range=[-1.5, 1.5], pixel_res=300)"
   ]
  },
  {
   "cell_type": "code",
   "execution_count": null,
   "id": "3dcca1f4",
   "metadata": {},
   "outputs": [],
   "source": []
  }
 ],
 "metadata": {
  "kernelspec": {
   "display_name": "Python 3 (ipykernel)",
   "language": "python",
   "name": "python3"
  },
  "language_info": {
   "codemirror_mode": {
    "name": "ipython",
    "version": 3
   },
   "file_extension": ".py",
   "mimetype": "text/x-python",
   "name": "python",
   "nbconvert_exporter": "python",
   "pygments_lexer": "ipython3",
   "version": "3.8.15"
  }
 },
 "nbformat": 4,
 "nbformat_minor": 5
}